{
 "cells": [
  {
   "cell_type": "code",
   "execution_count": 146,
   "metadata": {},
   "outputs": [],
   "source": [
    "import geopandas as gpd\n",
    "import pandas as pd\n",
    "from decimal import Decimal\n",
    "from shapely.geometry import Point, LineString, shape, MultiLineString"
   ]
  },
  {
   "cell_type": "code",
   "execution_count": 94,
   "metadata": {},
   "outputs": [],
   "source": [
    "df_fault = pd.read_json('JsonFiles/faultLineData.json')"
   ]
  },
  {
   "cell_type": "code",
   "execution_count": 95,
   "metadata": {},
   "outputs": [],
   "source": [
    "def convert_string_to_lineStringArgs(string_line):\n",
    "    list_points = []\n",
    "    for point in df_fault['Coordinates'][0].split(';'):\n",
    "        list_points.append(tuple([Decimal(x) for x in point.split(',')]))\n",
    "    return LineString(list_points)"
   ]
  },
  {
   "cell_type": "code",
   "execution_count": 96,
   "metadata": {},
   "outputs": [],
   "source": [
    "df_fault['LineString_Coordindates'] = gdf_fault['Coordinates'].apply(convert_string_to_lineStringArgs)"
   ]
  },
  {
   "cell_type": "code",
   "execution_count": 126,
   "metadata": {},
   "outputs": [],
   "source": [
    "gdf_fault = gpd.GeoDataFrame(df_fault['LineType'], \n",
    "                 crs={'init': 'epsg:4326'}, \n",
    "                 geometry=list(df_fault['LineString_Coordindates']))\n",
    "\n",
    "gdf_fault.to_file(\"FaultLineGeoJSON.json\", driver=\"GeoJSON\")"
   ]
  },
  {
   "cell_type": "code",
   "execution_count": 157,
   "metadata": {},
   "outputs": [
    {
     "data": {
      "text/html": [
       "<div>\n",
       "<style scoped>\n",
       "    .dataframe tbody tr th:only-of-type {\n",
       "        vertical-align: middle;\n",
       "    }\n",
       "\n",
       "    .dataframe tbody tr th {\n",
       "        vertical-align: top;\n",
       "    }\n",
       "\n",
       "    .dataframe thead th {\n",
       "        text-align: right;\n",
       "    }\n",
       "</style>\n",
       "<table border=\"1\" class=\"dataframe\">\n",
       "  <thead>\n",
       "    <tr style=\"text-align: right;\">\n",
       "      <th></th>\n",
       "      <th>LineType</th>\n",
       "      <th>geometry</th>\n",
       "    </tr>\n",
       "  </thead>\n",
       "  <tbody>\n",
       "    <tr>\n",
       "      <td>0</td>\n",
       "      <td>2010</td>\n",
       "      <td>LINESTRING (121.108894 14.698167, 121.108734 1...</td>\n",
       "    </tr>\n",
       "    <tr>\n",
       "      <td>1</td>\n",
       "      <td>2010</td>\n",
       "      <td>LINESTRING (121.108894 14.698167, 121.108734 1...</td>\n",
       "    </tr>\n",
       "    <tr>\n",
       "      <td>2</td>\n",
       "      <td>2010</td>\n",
       "      <td>LINESTRING (121.108894 14.698167, 121.108734 1...</td>\n",
       "    </tr>\n",
       "    <tr>\n",
       "      <td>3</td>\n",
       "      <td>2010</td>\n",
       "      <td>LINESTRING (121.108894 14.698167, 121.108734 1...</td>\n",
       "    </tr>\n",
       "    <tr>\n",
       "      <td>4</td>\n",
       "      <td>2010</td>\n",
       "      <td>LINESTRING (121.108894 14.698167, 121.108734 1...</td>\n",
       "    </tr>\n",
       "    <tr>\n",
       "      <td>...</td>\n",
       "      <td>...</td>\n",
       "      <td>...</td>\n",
       "    </tr>\n",
       "    <tr>\n",
       "      <td>994</td>\n",
       "      <td>fissure</td>\n",
       "      <td>LINESTRING (121.108894 14.698167, 121.108734 1...</td>\n",
       "    </tr>\n",
       "    <tr>\n",
       "      <td>995</td>\n",
       "      <td>fissure</td>\n",
       "      <td>LINESTRING (121.108894 14.698167, 121.108734 1...</td>\n",
       "    </tr>\n",
       "    <tr>\n",
       "      <td>996</td>\n",
       "      <td>fissure</td>\n",
       "      <td>LINESTRING (121.108894 14.698167, 121.108734 1...</td>\n",
       "    </tr>\n",
       "    <tr>\n",
       "      <td>997</td>\n",
       "      <td>fissure</td>\n",
       "      <td>LINESTRING (121.108894 14.698167, 121.108734 1...</td>\n",
       "    </tr>\n",
       "    <tr>\n",
       "      <td>998</td>\n",
       "      <td>fissure</td>\n",
       "      <td>LINESTRING (121.108894 14.698167, 121.108734 1...</td>\n",
       "    </tr>\n",
       "  </tbody>\n",
       "</table>\n",
       "<p>999 rows × 2 columns</p>\n",
       "</div>"
      ],
      "text/plain": [
       "    LineType                                           geometry\n",
       "0       2010  LINESTRING (121.108894 14.698167, 121.108734 1...\n",
       "1       2010  LINESTRING (121.108894 14.698167, 121.108734 1...\n",
       "2       2010  LINESTRING (121.108894 14.698167, 121.108734 1...\n",
       "3       2010  LINESTRING (121.108894 14.698167, 121.108734 1...\n",
       "4       2010  LINESTRING (121.108894 14.698167, 121.108734 1...\n",
       "..       ...                                                ...\n",
       "994  fissure  LINESTRING (121.108894 14.698167, 121.108734 1...\n",
       "995  fissure  LINESTRING (121.108894 14.698167, 121.108734 1...\n",
       "996  fissure  LINESTRING (121.108894 14.698167, 121.108734 1...\n",
       "997  fissure  LINESTRING (121.108894 14.698167, 121.108734 1...\n",
       "998  fissure  LINESTRING (121.108894 14.698167, 121.108734 1...\n",
       "\n",
       "[999 rows x 2 columns]"
      ]
     },
     "execution_count": 157,
     "metadata": {},
     "output_type": "execute_result"
    }
   ],
   "source": [
    "gdf_fault"
   ]
  },
  {
   "cell_type": "code",
   "execution_count": 162,
   "metadata": {},
   "outputs": [
    {
     "data": {
      "text/plain": [
       "'POINT (121.0214906 14.3877676)'"
      ]
     },
     "execution_count": 162,
     "metadata": {},
     "output_type": "execute_result"
    }
   ],
   "source": [
    "lines = gdf_fault['geometry'].unary_union\n",
    "\n",
    "from shapely.ops import nearest_points\n",
    "str(nearest_points(Point(121.02149059999999, 14.3877676), MultiLineString(list(gdf_fault['geometry'])))[0])\n",
    "\n",
    "# http://tremors.instigators.io/Home/GetNearestFaultDistance?latitude=14.3877676&longitude=121.02149059999999\n",
    "# {\"distance\":\"2.12\",\"lineLat\":14.3891462968,\"lineLong\":121.0411090195}"
   ]
  },
  {
   "cell_type": "code",
   "execution_count": 165,
   "metadata": {},
   "outputs": [],
   "source": [
    "gdf_fault = gpd.read_file('GeoJsonFiles/FaultLineGeoJSON.json')"
   ]
  },
  {
   "cell_type": "code",
   "execution_count": 169,
   "metadata": {},
   "outputs": [
    {
     "data": {
      "text/plain": [
       "'LINESTRING (121.108894 14.698167, 121.108734 14.697896)'"
      ]
     },
     "execution_count": 169,
     "metadata": {},
     "output_type": "execute_result"
    }
   ],
   "source": [
    "str(gdf_fault['geometry'][0])"
   ]
  },
  {
   "cell_type": "code",
   "execution_count": null,
   "metadata": {},
   "outputs": [],
   "source": []
  }
 ],
 "metadata": {
  "kernelspec": {
   "display_name": "Python 3",
   "language": "python",
   "name": "python3"
  },
  "language_info": {
   "codemirror_mode": {
    "name": "ipython",
    "version": 3
   },
   "file_extension": ".py",
   "mimetype": "text/x-python",
   "name": "python",
   "nbconvert_exporter": "python",
   "pygments_lexer": "ipython3",
   "version": "3.7.4"
  }
 },
 "nbformat": 4,
 "nbformat_minor": 4
}
