{
 "cells": [
  {
   "cell_type": "code",
   "execution_count": 238,
   "metadata": {},
   "outputs": [],
   "source": [
    "import geopandas as gpd\n",
    "import pandas as pd\n",
    "from decimal import Decimal\n",
    "import matplotlib.pyplot as plt\n",
    "import asShape\n",
    "from shapely.geometry import Point, LineString, shape, MultiLineString, LinearRing, MultiPoint, asShape"
   ]
  },
  {
   "cell_type": "code",
   "execution_count": 255,
   "metadata": {},
   "outputs": [],
   "source": [
    "df_fault = pd.read_json('JsonFiles/faultLineData-test.json')"
   ]
  },
  {
   "cell_type": "code",
   "execution_count": 326,
   "metadata": {},
   "outputs": [],
   "source": [
    "def convert_string_to_lineStringArgs(string_line):\n",
    "    list_points = []\n",
    "    for point in string_line.split(';'):\n",
    "        list_points.append(tuple([Decimal(x) for x in point.split(',')]))\n",
    "    return LineString(list_points)"
   ]
  },
  {
   "cell_type": "code",
   "execution_count": 327,
   "metadata": {},
   "outputs": [],
   "source": [
    "df_fault['LineString_Coordindates'] = df_fault['Coordinates'].apply(convert_string_to_lineStringArgs)"
   ]
  },
  {
   "cell_type": "code",
   "execution_count": 336,
   "metadata": {},
   "outputs": [
    {
     "data": {
      "text/html": [
       "<div>\n",
       "<style scoped>\n",
       "    .dataframe tbody tr th:only-of-type {\n",
       "        vertical-align: middle;\n",
       "    }\n",
       "\n",
       "    .dataframe tbody tr th {\n",
       "        vertical-align: top;\n",
       "    }\n",
       "\n",
       "    .dataframe thead th {\n",
       "        text-align: right;\n",
       "    }\n",
       "</style>\n",
       "<table border=\"1\" class=\"dataframe\">\n",
       "  <thead>\n",
       "    <tr style=\"text-align: right;\">\n",
       "      <th></th>\n",
       "      <th>LineType</th>\n",
       "      <th>Coordinates</th>\n",
       "      <th>LineString_Coordindates</th>\n",
       "    </tr>\n",
       "  </thead>\n",
       "  <tbody>\n",
       "    <tr>\n",
       "      <td>0</td>\n",
       "      <td>2010</td>\n",
       "      <td>121.1084640000,14.6940460000;121.1084520000,14...</td>\n",
       "      <td>LINESTRING (121.108464 14.694046, 121.108452 1...</td>\n",
       "    </tr>\n",
       "    <tr>\n",
       "      <td>1</td>\n",
       "      <td>2010</td>\n",
       "      <td>121.1085000000,14.6937640000;121.1085130000,14...</td>\n",
       "      <td>LINESTRING (121.1085 14.693764, 121.108513 14....</td>\n",
       "    </tr>\n",
       "  </tbody>\n",
       "</table>\n",
       "</div>"
      ],
      "text/plain": [
       "   LineType                                        Coordinates  \\\n",
       "0      2010  121.1084640000,14.6940460000;121.1084520000,14...   \n",
       "1      2010  121.1085000000,14.6937640000;121.1085130000,14...   \n",
       "\n",
       "                             LineString_Coordindates  \n",
       "0  LINESTRING (121.108464 14.694046, 121.108452 1...  \n",
       "1  LINESTRING (121.1085 14.693764, 121.108513 14....  "
      ]
     },
     "execution_count": 336,
     "metadata": {},
     "output_type": "execute_result"
    }
   ],
   "source": [
    "df_fault"
   ]
  },
  {
   "cell_type": "code",
   "execution_count": 335,
   "metadata": {},
   "outputs": [],
   "source": [
    "gdf_fault = gpd.GeoDataFrame(df_fault['LineType'], \n",
    "                 crs={'init': 'epsg:4326'}, \n",
    "                 geometry=list(df_fault['LineString_Coordindates']))\n",
    "\n",
    "gdf_fault.to_file(\"GeoJsonFiles/FaultLineGeoJSON-test.json\", driver=\"GeoJSON\")"
   ]
  },
  {
   "cell_type": "code",
   "execution_count": 338,
   "metadata": {},
   "outputs": [
    {
     "data": {
      "text/plain": [
       "'POINT (121.0214906 14.3877676)'"
      ]
     },
     "execution_count": 338,
     "metadata": {},
     "output_type": "execute_result"
    }
   ],
   "source": [
    "lines = gdf_fault['geometry'].unary_union\n",
    "\n",
    "from shapely.ops import nearest_points\n",
    "str(nearest_points(MultiLineString(list(gdf_fault['geometry'])), Point(121.02149059999999, 14.3877676))[1])\n",
    "\n",
    "# http://tremors.instigators.io/Home/GetNearestFaultDistance?latitude=14.3877676&longitude=121.02149059999999\n",
    "# {\"distance\":\"2.12\",\"lineLat\":14.3891462968,\"lineLong\":121.0411090195}\n",
    "\n",
    "# http://127.0.0.1:5000/?latitude=14.3877676&longitude=121.02149059999999"
   ]
  }
 ],
 "metadata": {
  "file_extension": ".py",
  "kernelspec": {
   "display_name": "Python 3",
   "language": "python",
   "name": "python3"
  },
  "language_info": {
   "codemirror_mode": {
    "name": "ipython",
    "version": 3
   },
   "file_extension": ".py",
   "mimetype": "text/x-python",
   "name": "python",
   "nbconvert_exporter": "python",
   "pygments_lexer": "ipython3",
   "version": "3.7.4"
  },
  "mimetype": "text/x-python",
  "name": "python",
  "npconvert_exporter": "python",
  "pygments_lexer": "ipython3",
  "version": 3
 },
 "nbformat": 4,
 "nbformat_minor": 4
}
