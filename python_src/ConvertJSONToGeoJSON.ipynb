{
 "cells": [
  {
   "cell_type": "code",
   "execution_count": 2,
   "metadata": {},
   "outputs": [],
   "source": [
    "import geopandas as gpd\n",
    "import pandas as pd\n",
    "from decimal import Decimal\n",
    "from shapely.geometry import Point, LineString, shape, MultiLineString"
   ]
  },
  {
   "cell_type": "code",
   "execution_count": 3,
   "metadata": {},
   "outputs": [],
   "source": [
    "df_fault = pd.read_json('JsonFiles/faultLineData.json')"
   ]
  },
  {
   "cell_type": "code",
   "execution_count": 4,
   "metadata": {},
   "outputs": [],
   "source": [
    "def convert_string_to_lineStringArgs(string_line):\n",
    "    list_points = []\n",
    "    for point in df_fault['Coordinates'][0].split(';'):\n",
    "        list_points.append(tuple([Decimal(x) for x in point.split(',')]))\n",
    "    return LineString(list_points)"
   ]
  },
  {
   "cell_type": "code",
   "execution_count": 5,
   "metadata": {},
   "outputs": [],
   "source": [
    "df_fault['LineString_Coordindates'] = df_fault['Coordinates'].apply(convert_string_to_lineStringArgs)"
   ]
  },
  {
   "cell_type": "code",
   "execution_count": 6,
   "metadata": {},
   "outputs": [],
   "source": [
    "gdf_fault = gpd.GeoDataFrame(df_fault['LineType'], \n",
    "                 crs={'init': 'epsg:4326'}, \n",
    "                 geometry=list(df_fault['LineString_Coordindates']))\n",
    "\n",
    "gdf_fault.to_file(\"FaultLineGeoJSON.json\", driver=\"GeoJSON\")"
   ]
  },
  {
   "cell_type": "code",
   "execution_count": 8,
   "metadata": {},
   "outputs": [
    {
     "data": {
      "text/plain": [
       "'POINT (121.0214906 14.3877676)'"
      ]
     },
     "execution_count": 8,
     "metadata": {},
     "output_type": "execute_result"
    }
   ],
   "source": [
    "lines = gdf_fault['geometry'].unary_union\n",
    "\n",
    "from shapely.ops import nearest_points\n",
    "str()\n",
    "\n",
    "# http://tremors.instigators.io/Home/GetNearestFaultDistance?latitude=14.3877676&longitude=121.02149059999999\n",
    "# {\"distance\":\"2.12\",\"lineLat\":14.3891462968,\"lineLong\":121.0411090195}"
   ]
  },
  {
   "cell_type": "code",
   "execution_count": 177,
   "metadata": {},
   "outputs": [
    {
     "data": {
      "text/plain": [
       "121.02149059999999"
      ]
     },
     "execution_count": 177,
     "metadata": {},
     "output_type": "execute_result"
    }
   ],
   "source": [
    "nearest_points(Point(121.02149059999999, 14.3877676), MultiLineString(list(gdf_fault['geometry'])))[0].x"
   ]
  }
 ],
 "metadata": {
  "file_extension": ".py",
  "kernelspec": {
   "display_name": "Python 3",
   "language": "python",
   "name": "python3"
  },
  "language_info": {
   "codemirror_mode": {
    "name": "ipython",
    "version": 3
   },
   "file_extension": ".py",
   "mimetype": "text/x-python",
   "name": "python",
   "nbconvert_exporter": "python",
   "pygments_lexer": "ipython3",
   "version": "3.7.4"
  },
  "mimetype": "text/x-python",
  "name": "python",
  "npconvert_exporter": "python",
  "pygments_lexer": "ipython3",
  "version": 3
 },
 "nbformat": 4,
 "nbformat_minor": 4
}
